{
 "cells": [
  {
   "cell_type": "code",
   "execution_count": 4,
   "id": "2fa22b6c",
   "metadata": {},
   "outputs": [
    {
     "name": "stderr",
     "output_type": "stream",
     "text": [
      "C:\\Users\\Admin\\AppData\\Roaming\\Python\\Python313\\site-packages\\tqdm\\auto.py:21: TqdmWarning: IProgress not found. Please update jupyter and ipywidgets. See https://ipywidgets.readthedocs.io/en/stable/user_install.html\n",
      "  from .autonotebook import tqdm as notebook_tqdm\n"
     ]
    }
   ],
   "source": [
    "import pandas as pd\n",
    "from sklearn.model_selection import train_test_split\n",
    "from sklearn.ensemble import RandomForestClassifier\n",
    "from sklearn.preprocessing import LabelEncoder\n",
    "from sklearn.metrics import accuracy_score, classification_report, confusion_matrix\n",
    "import seaborn as sns\n",
    "import matplotlib.pyplot as plt\n",
    "import datetime\n",
    "import optuna\n",
    "from sklearn.model_selection import cross_val_score\n"
   ]
  },
  {
   "cell_type": "code",
   "execution_count": 5,
   "id": "340b4bc4",
   "metadata": {},
   "outputs": [],
   "source": [
    "training_set_labels=pd.read_csv(r'C:\\Users\\Admin\\OneDrive\\Desktop\\Coursework\\semester 4\\MLPR\\MLPR_project\\data\\training_set_labels.csv')\n",
    "training_set_values=pd.read_csv(r'C:\\Users\\Admin\\OneDrive\\Desktop\\Coursework\\semester 4\\MLPR\\MLPR_project\\data\\traning_set_values.csv') \n",
    "\n",
    "train_data = pd.merge(training_set_values, training_set_labels, on='id')\n",
    "train_df=train_data.copy()\n",
    "\n",
    "test_set_values = pd.read_csv(r'C:\\Users\\Admin\\OneDrive\\Desktop\\Coursework\\semester 4\\MLPR\\MLPR_project\\data\\test_set_values.csv')\n",
    "test_df = test_set_values.copy()"
   ]
  },
  {
   "cell_type": "code",
   "execution_count": 6,
   "id": "3470cc4e",
   "metadata": {},
   "outputs": [],
   "source": [
    "import pandas as pd\n",
    "import datetime\n",
    "from sklearn.preprocessing import LabelEncoder\n",
    "from sklearn.model_selection import train_test_split\n",
    "from sklearn.linear_model import LogisticRegression\n",
    "from sklearn.metrics import accuracy_score, classification_report, confusion_matrix\n",
    "import seaborn as sns\n",
    "import matplotlib.pyplot as plt\n",
    "\n",
    "# Columns to drop, dropping num_private because 58643 out of 59400 column have value zero\n",
    "# date_recorded is changed because we feature engineered it to raininess_score\n",
    "duplicate_columns = ['wpt_name', 'extraction_type', 'source', 'water_quality',\n",
    "                     'waterpoint_type', 'payment_type', 'quality', 'recorded_by', 'num_private']\n",
    "crossed_out_columns = duplicate_columns + ['date_recorded']\n",
    "\n",
    "# Function to assign raininess score by month\n",
    "def assign_raininess(month):\n",
    "    if month in [3, 4, 5]:\n",
    "        return 4  # Long Rains\n",
    "    elif month in [10, 11, 12]:\n",
    "        return 3  # Short Rains\n",
    "    elif month in [1, 2]:\n",
    "        return 2  # Short Dry\n",
    "    else:\n",
    "        return 1  # Main Dry\n",
    "\n",
    "# Globals for label encoding\n",
    "categorical_cols = []\n",
    "encoders = {}\n",
    "\n",
    "# 1. Preprocessing + Encoding (Label Encoding only)\n",
    "def clean_encode_label(df, is_train=True):\n",
    "    global categorical_cols, encoders\n",
    "\n",
    "    df = df.copy()\n",
    "\n",
    "    if 'date_recorded' in df.columns:\n",
    "        df['date_recorded'] = pd.to_datetime(df['date_recorded'])\n",
    "        df['raininess_score'] = df['date_recorded'].dt.month.apply(assign_raininess)\n",
    "\n",
    "    df = df.drop(columns=[col for col in crossed_out_columns if col in df.columns], errors='ignore')\n",
    "\n",
    "    for col in df.select_dtypes(include='object').columns:\n",
    "        if is_train and col == 'status_group':\n",
    "            continue\n",
    "        df[col].fillna(\"unknown\", inplace=True)\n",
    "    df.fillna(0, inplace=True)\n",
    "\n",
    "    if is_train:\n",
    "        categorical_cols = [col for col in df.select_dtypes(include='object').columns if col != 'status_group']\n",
    "        encoders = {}\n",
    "\n",
    "        for col in categorical_cols:\n",
    "            le = LabelEncoder()\n",
    "            df[col] = le.fit_transform(df[col].astype(str))\n",
    "            encoders[col] = le\n",
    "    else:\n",
    "        for col in categorical_cols:\n",
    "            if col in df.columns:\n",
    "                le = encoders[col]\n",
    "                col_data = df[col].astype(str)\n",
    "                col_data[~col_data.isin(le.classes_)] = le.classes_[0]\n",
    "                df[col] = le.transform(col_data)\n",
    "\n",
    "    return df\n",
    "\n",
    "# 2. Model Building using Logistic Regression\n",
    "def build_model_label(train_df, data_proportion=1.0, random_state=42):\n",
    "    train_df = clean_encode_label(train_df, is_train=True)\n",
    "    y = train_df['status_group']\n",
    "    X = train_df.drop(columns=['status_group'])\n",
    "\n",
    "    if data_proportion < 1.0:\n",
    "        X, _, y, _ = train_test_split(X, y, train_size=data_proportion, stratify=y, random_state=random_state)\n",
    "\n",
    "    X_train, X_test, y_train, y_test = train_test_split(X, y, test_size=0.2, stratify=y, random_state=random_state)\n",
    "\n",
    "    model = LogisticRegression(max_iter=1000, random_state=random_state)\n",
    "    model.fit(X_train, y_train)\n",
    "\n",
    "    y_pred = model.predict(X_test)\n",
    "    accuracy = accuracy_score(y_test, y_pred)\n",
    "\n",
    "    print(f\"Model trained on {data_proportion*100:.1f}% of data\")\n",
    "    print(f\"Accuracy: {accuracy:.4f}\")\n",
    "    print(\"Classification Report:\")\n",
    "    print(classification_report(y_test, y_pred))\n",
    "\n",
    "    cm = confusion_matrix(y_test, y_pred)\n",
    "    sns.heatmap(cm, annot=True, fmt='d', cmap='Blues',\n",
    "                xticklabels=model.classes_, yticklabels=model.classes_)\n",
    "    plt.xlabel(\"Predicted\")\n",
    "    plt.ylabel(\"Actual\")\n",
    "    plt.title(\"Confusion Matrix\")\n",
    "    plt.show()\n",
    "\n",
    "    return {\n",
    "        'model': model\n",
    "    }\n",
    "\n",
    "# 3. Predict on Test Set\n",
    "def predict_test_set_label(model_data, test_df):\n",
    "    test_df_cleaned = clean_encode_label(test_df, is_train=False)\n",
    "    model = model_data['model']\n",
    "\n",
    "    predictions = model.predict(test_df_cleaned)\n",
    "\n",
    "    result_df = pd.DataFrame({\n",
    "        'id': test_df['id'] if 'id' in test_df.columns else test_df.index,\n",
    "        'status_group': predictions\n",
    "    })\n",
    "\n",
    "    timestamp = datetime.datetime.now().strftime(\"%Y-%m-%d_%H-%M-%S\")\n",
    "    filename = f\"predictions_{timestamp}.csv\"\n",
    "    result_df.to_csv(filename, index=False)\n",
    "    print(f\"\\u2705 Saved {len(result_df)} predictions to {filename}\")\n",
    "\n",
    "    return result_df\n"
   ]
  },
  {
   "cell_type": "code",
   "execution_count": 7,
   "id": "fed3f970",
   "metadata": {},
   "outputs": [
    {
     "name": "stderr",
     "output_type": "stream",
     "text": [
      "C:\\Users\\Admin\\AppData\\Local\\Temp\\ipykernel_7252\\1082836237.py:46: FutureWarning: A value is trying to be set on a copy of a DataFrame or Series through chained assignment using an inplace method.\n",
      "The behavior will change in pandas 3.0. This inplace method will never work because the intermediate object on which we are setting values always behaves as a copy.\n",
      "\n",
      "For example, when doing 'df[col].method(value, inplace=True)', try using 'df.method({col: value}, inplace=True)' or df[col] = df[col].method(value) instead, to perform the operation inplace on the original object.\n",
      "\n",
      "\n",
      "  df[col].fillna(\"unknown\", inplace=True)\n",
      "C:\\Users\\Admin\\AppData\\Roaming\\Python\\Python313\\site-packages\\sklearn\\linear_model\\_logistic.py:465: ConvergenceWarning: lbfgs failed to converge (status=1):\n",
      "STOP: TOTAL NO. OF ITERATIONS REACHED LIMIT.\n",
      "\n",
      "Increase the number of iterations (max_iter) or scale the data as shown in:\n",
      "    https://scikit-learn.org/stable/modules/preprocessing.html\n",
      "Please also refer to the documentation for alternative solver options:\n",
      "    https://scikit-learn.org/stable/modules/linear_model.html#logistic-regression\n",
      "  n_iter_i = _check_optimize_result(\n",
      "C:\\Users\\Admin\\AppData\\Roaming\\Python\\Python313\\site-packages\\sklearn\\metrics\\_classification.py:1565: UndefinedMetricWarning: Precision is ill-defined and being set to 0.0 in labels with no predicted samples. Use `zero_division` parameter to control this behavior.\n",
      "  _warn_prf(average, modifier, f\"{metric.capitalize()} is\", len(result))\n",
      "C:\\Users\\Admin\\AppData\\Roaming\\Python\\Python313\\site-packages\\sklearn\\metrics\\_classification.py:1565: UndefinedMetricWarning: Precision is ill-defined and being set to 0.0 in labels with no predicted samples. Use `zero_division` parameter to control this behavior.\n",
      "  _warn_prf(average, modifier, f\"{metric.capitalize()} is\", len(result))\n",
      "C:\\Users\\Admin\\AppData\\Roaming\\Python\\Python313\\site-packages\\sklearn\\metrics\\_classification.py:1565: UndefinedMetricWarning: Precision is ill-defined and being set to 0.0 in labels with no predicted samples. Use `zero_division` parameter to control this behavior.\n",
      "  _warn_prf(average, modifier, f\"{metric.capitalize()} is\", len(result))\n"
     ]
    },
    {
     "name": "stdout",
     "output_type": "stream",
     "text": [
      "Model trained on 100.0% of data\n",
      "Accuracy: 0.5652\n",
      "Classification Report:\n",
      "                         precision    recall  f1-score   support\n",
      "\n",
      "             functional       0.57      0.87      0.69      6452\n",
      "functional needs repair       0.00      0.00      0.00       863\n",
      "         non functional       0.53      0.24      0.33      4565\n",
      "\n",
      "               accuracy                           0.57     11880\n",
      "              macro avg       0.37      0.37      0.34     11880\n",
      "           weighted avg       0.52      0.57      0.50     11880\n",
      "\n"
     ]
    },
    {
     "data": {
      "image/png": "[encoded data removed]",
      "text/plain": [
       "<Figure size 640x480 with 2 Axes>"
      ]
     },
     "metadata": {},
     "output_type": "display_data"
    },
    {
     "data": {
      "text/plain": [
       "{'model': LogisticRegression(max_iter=1000, random_state=42)}"
      ]
     },
     "execution_count": 7,
     "metadata": {},
     "output_type": "execute_result"
    }
   ],
   "source": [
    "build_model_label(train_df)"
   ]
  }
 ],
 "metadata": {
  "kernelspec": {
   "display_name": "Python 3",
   "language": "python",
   "name": "python3"
  },
  "language_info": {
   "codemirror_mode": {
    "name": "ipython",
    "version": 3
   },
   "file_extension": ".py",
   "mimetype": "text/x-python",
   "name": "python",
   "nbconvert_exporter": "python",
   "pygments_lexer": "ipython3",
   "version": "3.13.2"
  }
 },
 "nbformat": 4,
 "nbformat_minor": 5
}
