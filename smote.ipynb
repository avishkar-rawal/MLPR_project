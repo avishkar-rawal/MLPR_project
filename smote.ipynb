{
  "cells": [
    {
      "cell_type": "markdown",
      "id": "01c21f20",
      "metadata": {
        "id": "01c21f20"
      },
      "source": [
        "### importing"
      ]
    },
    {
      "cell_type": "code",
      "source": [
        "! pip install optuna"
      ],
      "metadata": {
        "colab": {
          "base_uri": "https://localhost:8080/"
        },
        "id": "5yqNow9-_-N5",
        "outputId": "61813de9-8271-4f13-eac1-cdde7f28060d"
      },
      "id": "5yqNow9-_-N5",
      "execution_count": null,
      "outputs": [
        {
          "output_type": "stream",
          "name": "stdout",
          "text": [
            "Collecting optuna\n",
            "  Downloading optuna-4.3.0-py3-none-any.whl.metadata (17 kB)\n",
            "Collecting alembic>=1.5.0 (from optuna)\n",
            "  Downloading alembic-1.15.2-py3-none-any.whl.metadata (7.3 kB)\n",
            "Collecting colorlog (from optuna)\n",
            "  Downloading colorlog-6.9.0-py3-none-any.whl.metadata (10 kB)\n",
            "Requirement already satisfied: numpy in /usr/local/lib/python3.11/dist-packages (from optuna) (2.0.2)\n",
            "Requirement already satisfied: packaging>=20.0 in /usr/local/lib/python3.11/dist-packages (from optuna) (24.2)\n",
            "Requirement already satisfied: sqlalchemy>=1.4.2 in /usr/local/lib/python3.11/dist-packages (from optuna) (2.0.40)\n",
            "Requirement already satisfied: tqdm in /usr/local/lib/python3.11/dist-packages (from optuna) (4.67.1)\n",
            "Requirement already satisfied: PyYAML in /usr/local/lib/python3.11/dist-packages (from optuna) (6.0.2)\n",
            "Requirement already satisfied: Mako in /usr/lib/python3/dist-packages (from alembic>=1.5.0->optuna) (1.1.3)\n",
            "Requirement already satisfied: typing-extensions>=4.12 in /usr/local/lib/python3.11/dist-packages (from alembic>=1.5.0->optuna) (4.13.2)\n",
            "Requirement already satisfied: greenlet>=1 in /usr/local/lib/python3.11/dist-packages (from sqlalchemy>=1.4.2->optuna) (3.2.2)\n",
            "Downloading optuna-4.3.0-py3-none-any.whl (386 kB)\n",
            "\u001b[2K   \u001b[90m━━━━━━━━━━━━━━━━━━━━━━━━━━━━━━━━━━━━━━━━\u001b[0m \u001b[32m386.6/386.6 kB\u001b[0m \u001b[31m7.4 MB/s\u001b[0m eta \u001b[36m0:00:00\u001b[0m\n",
            "\u001b[?25hDownloading alembic-1.15.2-py3-none-any.whl (231 kB)\n",
            "\u001b[2K   \u001b[90m━━━━━━━━━━━━━━━━━━━━━━━━━━━━━━━━━━━━━━━━\u001b[0m \u001b[32m231.9/231.9 kB\u001b[0m \u001b[31m9.5 MB/s\u001b[0m eta \u001b[36m0:00:00\u001b[0m\n",
            "\u001b[?25hDownloading colorlog-6.9.0-py3-none-any.whl (11 kB)\n",
            "Installing collected packages: colorlog, alembic, optuna\n",
            "Successfully installed alembic-1.15.2 colorlog-6.9.0 optuna-4.3.0\n"
          ]
        }
      ]
    },
    {
      "cell_type": "code",
      "execution_count": null,
      "id": "2fa22b6c",
      "metadata": {
        "id": "2fa22b6c"
      },
      "outputs": [],
      "source": [
        "import pandas as pd\n",
        "from sklearn.model_selection import train_test_split\n",
        "from sklearn.ensemble import RandomForestClassifier\n",
        "from sklearn.preprocessing import LabelEncoder\n",
        "from sklearn.metrics import accuracy_score, classification_report, confusion_matrix\n",
        "import seaborn as sns\n",
        "import matplotlib.pyplot as plt\n",
        "import datetime\n",
        "import optuna\n",
        "from sklearn.model_selection import cross_val_score\n"
      ]
    },
    {
      "cell_type": "code",
      "source": [
        "from google.colab import drive\n",
        "drive.mount('/content/drive')"
      ],
      "metadata": {
        "colab": {
          "base_uri": "https://localhost:8080/"
        },
        "id": "Xg_v9alKAgsc",
        "outputId": "3cb0d8c2-929f-45c3-8356-6f37c6b456d1"
      },
      "id": "Xg_v9alKAgsc",
      "execution_count": null,
      "outputs": [
        {
          "output_type": "stream",
          "name": "stdout",
          "text": [
            "Mounted at /content/drive\n"
          ]
        }
      ]
    },
    {
      "cell_type": "code",
      "execution_count": null,
      "id": "340b4bc4",
      "metadata": {
        "id": "340b4bc4"
      },
      "outputs": [],
      "source": [
        "\n",
        "training_set_labels = pd.read_csv('/content/drive/MyDrive/data for Google Colab/Data Driven/training_set_labels.csv')\n",
        "training_set_values = pd.read_csv('/content/drive/MyDrive/data for Google Colab/Data Driven/traning_set_values.csv')\n",
        "test_set_values = pd.read_csv('/content/drive/MyDrive/data for Google Colab/Data Driven/test_set_values.csv')\n",
        "\n",
        "\n",
        "\n",
        "train_data = pd.merge(training_set_values, training_set_labels, on='id')\n",
        "train_df=train_data.copy()\n",
        "test_df = test_set_values.copy()"
      ]
    },
    {
      "cell_type": "markdown",
      "id": "f51cf02b",
      "metadata": {
        "id": "f51cf02b"
      },
      "source": [
        "### feaure engineering for population using KNN Imputer"
      ]
    },
    {
      "cell_type": "code",
      "execution_count": null,
      "id": "27d3de19",
      "metadata": {
        "id": "27d3de19"
      },
      "outputs": [],
      "source": [
        "from sklearn.impute import KNNImputer\n",
        "import numpy as np\n",
        "\n",
        "# ['enough' 'insufficient' 'dry' 'seasonal' 'unknown']\n",
        "# ['pay annually' 'never pay' 'pay per bucket' 'unknown' 'pay when scheme fails' 'other' 'pay monthly']\n",
        "# ['communal standpipe' 'hand pump' 'other' 'improved spring' 'cattle trough' 'dam']\n",
        "\n",
        "\n",
        "from sklearn.impute import KNNImputer\n",
        "import numpy as np\n",
        "\n",
        "def impute_population_knn(df, is_train=True, n_neighbors=5):\n",
        "    df = df.copy()\n",
        "\n",
        "    # Dictionaries inside function\n",
        "    dict_population_train = {\n",
        "        'quantity': ['enough', 'insufficient'],\n",
        "        'payment': ['pay annually', 'pay per bucket', 'pay monthly'],\n",
        "        'waterpoint_type_group': ['improvedspring'],\n",
        "        'status_group': ['functional', 'functional needs repair'],\n",
        "    }\n",
        "\n",
        "    dict_population_test = {\n",
        "        'quantity': ['enough', 'insufficient'],\n",
        "        'payment': ['pay annually', 'pay per bucket', 'pay monthly'],\n",
        "        'waterpoint_type_group': ['improvedspring'],\n",
        "    }\n",
        "\n",
        "    dict_population = dict_population_train if is_train else dict_population_test\n",
        "\n",
        "    # Count original zeros\n",
        "    total_zeros_before = (df['population'] == 0).sum()\n",
        "\n",
        "    # Identify rows where population is zero\n",
        "    zero_pop_mask = df['population'] == 0\n",
        "\n",
        "    # Build mask for rows matching any dictionary criteria\n",
        "    match_mask = np.zeros(len(df), dtype=bool)\n",
        "    for col, values in dict_population.items():\n",
        "        if col in df.columns:\n",
        "            match_mask |= df[col].isin(values)\n",
        "\n",
        "    # Target rows where population is zero and match criteria\n",
        "    target_mask = zero_pop_mask & match_mask\n",
        "    total_to_impute = target_mask.sum()\n",
        "\n",
        "    if total_to_impute == 0:\n",
        "        print(f\"[INFO] No rows to impute. Population=0 count: {total_zeros_before}\")\n",
        "        return df\n",
        "\n",
        "    # Prepare numeric columns excluding 'id' and 'population'\n",
        "    numeric_cols = df.select_dtypes(include=[np.number]).columns.tolist()\n",
        "    if 'id' in numeric_cols:\n",
        "        numeric_cols.remove('id')\n",
        "    if 'population' in numeric_cols:\n",
        "        numeric_cols.remove('population')\n",
        "\n",
        "    # Prepare dataframe for KNNImputer\n",
        "    df_knn = df[numeric_cols + ['population']].copy()\n",
        "    df_knn.loc[target_mask, 'population'] = np.nan\n",
        "\n",
        "    # Apply KNN imputer\n",
        "    imputer = KNNImputer(n_neighbors=n_neighbors)\n",
        "    imputed = imputer.fit_transform(df_knn)\n",
        "\n",
        "    # Update population with imputed values only for target rows\n",
        "    imputed_population = np.round(imputed[:, -1]).astype(int)\n",
        "    df.loc[target_mask, 'population'] = imputed_population[target_mask.values]\n",
        "\n",
        "    # Count zeros after imputation\n",
        "    total_zeros_after = (df['population'] == 0).sum()\n",
        "\n",
        "    # Number of successful imputations\n",
        "    total_imputed = total_to_impute - (df.loc[target_mask, 'population'] == 0).sum()\n",
        "\n",
        "    print(f\"[INFO] Original population=0 count: {total_zeros_before}\")\n",
        "    print(f\"[INFO] Population=0 after imputation: {total_zeros_after}\")\n",
        "    print(f\"[INFO] Total imputed population values: {total_imputed}\")\n",
        "\n",
        "    return df\n",
        "\n",
        "# Usage example:\n",
        "# df = impute_population_knn(df, is_train=True, n_neighbors=5)\n"
      ]
    },
    {
      "cell_type": "code",
      "execution_count": null,
      "id": "e40c1c1b",
      "metadata": {
        "colab": {
          "base_uri": "https://localhost:8080/"
        },
        "id": "e40c1c1b",
        "outputId": "4cd596d6-e383-4748-9eac-2f0d6a02f2c9"
      },
      "outputs": [
        {
          "output_type": "stream",
          "name": "stdout",
          "text": [
            "[INFO] Original population=0 count: 21381\n",
            "[INFO] Population=0 after imputation: 19832\n",
            "[INFO] Total imputed population values: 1549\n"
          ]
        }
      ],
      "source": [
        "train_df=impute_population_knn(train_df, is_train=True, n_neighbors=5)"
      ]
    },
    {
      "cell_type": "code",
      "execution_count": 23,
      "id": "bf048b25",
      "metadata": {
        "colab": {
          "base_uri": "https://localhost:8080/"
        },
        "id": "bf048b25",
        "outputId": "a1ff368a-22dc-4c6d-b905-a591b077826b"
      },
      "outputs": [
        {
          "output_type": "stream",
          "name": "stdout",
          "text": [
            "[INFO] Original population=0 count: 5073\n",
            "[INFO] Population=0 after imputation: 5066\n",
            "[INFO] Total imputed population values: 7\n"
          ]
        }
      ],
      "source": [
        "test_df=impute_population_knn(test_df, is_train=False, n_neighbors=5)"
      ]
    },
    {
      "cell_type": "markdown",
      "id": "ef7b9672",
      "metadata": {
        "id": "ef7b9672"
      },
      "source": [
        "### inputing construciton year when it is 0 (there are 20709, 43.9%)"
      ]
    },
    {
      "cell_type": "code",
      "execution_count": null,
      "id": "cbe88502",
      "metadata": {
        "id": "cbe88502"
      },
      "outputs": [],
      "source": [
        "def impute_construction_year(df, construction_col='construction_year', n_neighbors=5):\n",
        "    df = df.copy()\n",
        "\n",
        "    # Treat 0 as missing\n",
        "    df[construction_col] = df[construction_col].replace(0, np.nan)\n",
        "\n",
        "    # Select only numeric columns for KNN\n",
        "    numeric_cols = df.select_dtypes(include=[np.number]).columns.tolist()\n",
        "    if construction_col not in numeric_cols:\n",
        "        raise ValueError(f\"{construction_col} must be a numeric column\")\n",
        "\n",
        "    # Apply KNN Imputer\n",
        "    imputer = KNNImputer(n_neighbors=n_neighbors)\n",
        "    df[numeric_cols] = imputer.fit_transform(df[numeric_cols])\n",
        "\n",
        "    # Round construction_year to nearest year and cast to int\n",
        "    df[construction_col] = df[construction_col].round().astype(int)\n",
        "\n",
        "    return df"
      ]
    },
    {
      "cell_type": "code",
      "execution_count": null,
      "id": "4a181bf4",
      "metadata": {
        "id": "4a181bf4"
      },
      "outputs": [],
      "source": [
        "train_df = impute_construction_year(train_df, construction_col='construction_year', n_neighbors=5)\n",
        "test_df = impute_construction_year(test_df, construction_col='construction_year', n_neighbors=5)"
      ]
    },
    {
      "cell_type": "markdown",
      "id": "60a17ad5",
      "metadata": {
        "id": "60a17ad5"
      },
      "source": [
        "### making a column for the age of the water point"
      ]
    },
    {
      "cell_type": "code",
      "execution_count": null,
      "id": "9a40dc57",
      "metadata": {
        "id": "9a40dc57"
      },
      "outputs": [],
      "source": [
        "def add_age_column(df, construction_col='construction_year', recorded_col='date_recorded', age_col='age'):\n",
        "    df = df.copy()\n",
        "\n",
        "    # Convert date_recorded to datetime\n",
        "    df[recorded_col] = pd.to_datetime(df[recorded_col], errors='coerce')\n",
        "\n",
        "    # Extract year from date_recorded\n",
        "    recorded_year = df[recorded_col].dt.year\n",
        "\n",
        "    # Calculate age = recorded_year - construction_year\n",
        "    df[age_col] = recorded_year - df[construction_col]\n",
        "\n",
        "    # Handle invalid/missing years\n",
        "    df[age_col] = df[age_col].fillna(0).astype(int)\n",
        "    df.loc[df[age_col] < 0, age_col] = 0  # If construction_year > recorded_year\n",
        "\n",
        "    return df\n"
      ]
    },
    {
      "cell_type": "code",
      "execution_count": null,
      "id": "4fc94f6b",
      "metadata": {
        "id": "4fc94f6b"
      },
      "outputs": [],
      "source": [
        "train_df= add_age_column(train_df, construction_col='construction_year', recorded_col='date_recorded', age_col='age')\n",
        "test_df= add_age_column(test_df, construction_col='construction_year', recorded_col='date_recorded', age_col='age')"
      ]
    },
    {
      "cell_type": "markdown",
      "id": "6cbc4e06",
      "metadata": {
        "id": "6cbc4e06"
      },
      "source": [
        "\n",
        "\n",
        "```\n",
        "# This is formatted as code\n",
        "```\n",
        "\n",
        "### the code for random forest classifier with feature emgineered raininess score"
      ]
    },
    {
      "cell_type": "code",
      "execution_count": null,
      "id": "f4630cf9",
      "metadata": {
        "id": "f4630cf9",
        "outputId": "a3695d96-4311-45a7-e357-6c8e54bfeead",
        "colab": {
          "base_uri": "https://localhost:8080/"
        }
      },
      "outputs": [
        {
          "output_type": "execute_result",
          "data": {
            "text/plain": [
              "np.int64(58643)"
            ]
          },
          "metadata": {},
          "execution_count": 13
        }
      ],
      "source": [
        "(train_df['num_private'] == 0).sum()"
      ]
    },
    {
      "cell_type": "code",
      "source": [
        "train_df['status_group'].value_counts()\n"
      ],
      "metadata": {
        "colab": {
          "base_uri": "https://localhost:8080/",
          "height": 209
        },
        "id": "2ioVAiAr-9lc",
        "outputId": "59a1c74d-17d7-4b8b-f965-9fff8beb67ed"
      },
      "id": "2ioVAiAr-9lc",
      "execution_count": null,
      "outputs": [
        {
          "output_type": "execute_result",
          "data": {
            "text/plain": [
              "status_group\n",
              "functional                 32259\n",
              "non functional             22824\n",
              "functional needs repair     4317\n",
              "Name: count, dtype: int64"
            ],
            "text/html": [
              "<div>\n",
              "<style scoped>\n",
              "    .dataframe tbody tr th:only-of-type {\n",
              "        vertical-align: middle;\n",
              "    }\n",
              "\n",
              "    .dataframe tbody tr th {\n",
              "        vertical-align: top;\n",
              "    }\n",
              "\n",
              "    .dataframe thead th {\n",
              "        text-align: right;\n",
              "    }\n",
              "</style>\n",
              "<table border=\"1\" class=\"dataframe\">\n",
              "  <thead>\n",
              "    <tr style=\"text-align: right;\">\n",
              "      <th></th>\n",
              "      <th>count</th>\n",
              "    </tr>\n",
              "    <tr>\n",
              "      <th>status_group</th>\n",
              "      <th></th>\n",
              "    </tr>\n",
              "  </thead>\n",
              "  <tbody>\n",
              "    <tr>\n",
              "      <th>functional</th>\n",
              "      <td>32259</td>\n",
              "    </tr>\n",
              "    <tr>\n",
              "      <th>non functional</th>\n",
              "      <td>22824</td>\n",
              "    </tr>\n",
              "    <tr>\n",
              "      <th>functional needs repair</th>\n",
              "      <td>4317</td>\n",
              "    </tr>\n",
              "  </tbody>\n",
              "</table>\n",
              "</div><br><label><b>dtype:</b> int64</label>"
            ]
          },
          "metadata": {},
          "execution_count": 22
        }
      ]
    },
    {
      "cell_type": "code",
      "execution_count": 35,
      "id": "3470cc4e",
      "metadata": {
        "id": "3470cc4e"
      },
      "outputs": [],
      "source": [
        "import pandas as pd\n",
        "import datetime\n",
        "from sklearn.preprocessing import LabelEncoder\n",
        "from sklearn.model_selection import train_test_split\n",
        "from sklearn.ensemble import RandomForestClassifier\n",
        "from sklearn.metrics import accuracy_score, classification_report, confusion_matrix\n",
        "import seaborn as sns\n",
        "import matplotlib.pyplot as plt\n",
        "from imblearn.over_sampling import SMOTE\n",
        "\n",
        "\n",
        "# Columns to drop, dropping num_private because 58643 out of 59400 column have value zero\n",
        "# date recorede is changed becuase we feature engineered it to raininess score\n",
        "\n",
        "duplicate_columns = ['wpt_name', 'extraction_type', 'source', 'water_quality',\n",
        "                     'waterpoint_type', 'payment_type', 'quality', 'recorded_by','num_private']\n",
        "crossed_out_columns = duplicate_columns + ['date_recorded']\n",
        "\n",
        "# Function to assign raininess score by month\n",
        "def assign_raininess(month):\n",
        "    if month in [3, 4, 5]:\n",
        "        return 4  # Long Rains\n",
        "    elif month in [10, 11, 12]:\n",
        "        return 3  # Short Rains\n",
        "    elif month in [1, 2]:\n",
        "        return 2  # Short Dry\n",
        "    else:\n",
        "        return 1  # Main Dry\n",
        "\n",
        "# Globals for label encoding\n",
        "categorical_cols = []\n",
        "encoders = {}\n",
        "\n",
        "# 1. Preprocessing + Encoding (Label Encoding only)\n",
        "def clean_encode_label(df, is_train=True):\n",
        "    global categorical_cols, encoders\n",
        "\n",
        "    df = df.copy()\n",
        "\n",
        "    if 'date_recorded' in df.columns:\n",
        "        df['date_recorded'] = pd.to_datetime(df['date_recorded'])\n",
        "        df['raininess_score'] = df['date_recorded'].dt.month.apply(assign_raininess)\n",
        "\n",
        "    df = df.drop(columns=[col for col in crossed_out_columns if col in df.columns], errors='ignore')\n",
        "\n",
        "    for col in df.select_dtypes(include='object').columns:\n",
        "        if is_train and col == 'status_group':\n",
        "            continue\n",
        "        df[col].fillna(\"unknown\", inplace=True)\n",
        "    df.fillna(0, inplace=True)\n",
        "\n",
        "    if is_train:\n",
        "        categorical_cols = [col for col in df.select_dtypes(include='object').columns if col != 'status_group']\n",
        "        encoders = {}\n",
        "\n",
        "        for col in categorical_cols:\n",
        "            le = LabelEncoder()\n",
        "            df[col] = le.fit_transform(df[col].astype(str))\n",
        "            encoders[col] = le\n",
        "    else:\n",
        "        for col in categorical_cols:\n",
        "            if col in df.columns:\n",
        "                le = encoders[col]\n",
        "                col_data = df[col].astype(str)\n",
        "                # Replace unseen categories with first known class\n",
        "                col_data[~col_data.isin(le.classes_)] = le.classes_[0]\n",
        "                df[col] = le.transform(col_data)\n",
        "\n",
        "    return df\n",
        "\n",
        "# 2. Model Building\n",
        "\n",
        "from imblearn.over_sampling import SMOTE\n",
        "from collections import Counter\n",
        "import pandas as pd\n",
        "import seaborn as sns\n",
        "import matplotlib.pyplot as plt\n",
        "from sklearn.ensemble import RandomForestClassifier\n",
        "from sklearn.model_selection import train_test_split\n",
        "from sklearn.metrics import accuracy_score, classification_report, confusion_matrix\n",
        "\n",
        "def build_model_label(train_df, data_proportion=1.0, n_estimators=550, max_depth=None,\n",
        "                      random_state=42, balance=False, smote_multiplier=1,test_size=0.2):\n",
        "    train_df = clean_encode_label(train_df, is_train=True)\n",
        "    y = train_df['status_group']\n",
        "    X = train_df.drop(columns=['status_group'])\n",
        "\n",
        "    if data_proportion < 1.0:\n",
        "        X, _, y, _ = train_test_split(X, y, train_size=data_proportion, stratify=y, random_state=random_state)\n",
        "\n",
        "    # Train-test split\n",
        "    X_train, X_test, y_train, y_test = train_test_split(X, y, test_size=test_size, stratify=y, random_state=random_state)\n",
        "\n",
        "    print(\"\\n🔹 Class distribution BEFORE SMOTE:\")\n",
        "    for cls, count in Counter(y_train).items():\n",
        "        print(f\"  {cls}: {count}\")\n",
        "\n",
        "    if balance:\n",
        "        smote = SMOTE(random_state=random_state)\n",
        "\n",
        "        # Apply SMOTE once\n",
        "        X_resampled, y_resampled = smote.fit_resample(X_train, y_train)\n",
        "\n",
        "        # Repeat SMOTE if multiplier > 1\n",
        "        if smote_multiplier > 1:\n",
        "            for _ in range(smote_multiplier - 1):\n",
        "                X_resampled, y_resampled = smote.fit_resample(X_resampled, y_resampled)\n",
        "\n",
        "        X_train, y_train = X_resampled, y_resampled\n",
        "\n",
        "        print(\"\\n SMOTE applied\")\n",
        "        print(\"🔹 Class distribution AFTER SMOTE:\")\n",
        "        for cls, count in Counter(y_train).items():\n",
        "            print(f\"  {cls}: {count}\")\n",
        "    else:\n",
        "        print(\"\\n SMOTE not applied. Using original training data.\")\n",
        "\n",
        "    # Train model\n",
        "    model = RandomForestClassifier(n_estimators=n_estimators, max_depth=max_depth, random_state=random_state)\n",
        "    model.fit(X_train, y_train)\n",
        "\n",
        "    # Evaluation\n",
        "    y_pred = model.predict(X_test)\n",
        "    acc = accuracy_score(y_test, y_pred)\n",
        "\n",
        "    print(f\"\\n Trained on {len(X_train)} samples\")\n",
        "    print(f\" Accuracy: {acc:.4f}\")\n",
        "    print(\"\\n Classification Report:\")\n",
        "    print(classification_report(y_test, y_pred))\n",
        "\n",
        "    cm = confusion_matrix(y_test, y_pred)\n",
        "    sns.heatmap(cm, annot=True, fmt='d', cmap='Blues',\n",
        "                xticklabels=model.classes_, yticklabels=model.classes_)\n",
        "    plt.xlabel(\"Predicted\")\n",
        "    plt.ylabel(\"Actual\")\n",
        "    plt.title(\"Confusion Matrix\")\n",
        "    plt.show()\n",
        "\n",
        "    return {'model': model}\n",
        "\n",
        "\n",
        "# 3. Predict on Test Set\n",
        "def predict_test_set_label(model_data, test_df):\n",
        "    test_df_cleaned = clean_encode_label(test_df, is_train=False)\n",
        "    model = model_data['model']\n",
        "\n",
        "    predictions = model.predict(test_df_cleaned)\n",
        "\n",
        "    result_df = pd.DataFrame({\n",
        "        'id': test_df['id'] if 'id' in test_df.columns else test_df.index,\n",
        "        'status_group': predictions\n",
        "    })\n",
        "\n",
        "    timestamp = datetime.datetime.now().strftime(\"%Y-%m-%d_%H-%M-%S\")\n",
        "    filename = f\"predictions_{timestamp}.csv\"\n",
        "    result_df.to_csv(filename, index=False)\n",
        "    print(f\"\\u2705 Saved {len(result_df)} predictions to {filename}\")\n",
        "\n",
        "    return result_df\n"
      ]
    },
    {
      "cell_type": "code",
      "execution_count": 34,
      "id": "fed3f970",
      "metadata": {
        "id": "fed3f970",
        "outputId": "21eabccd-f705-4790-b812-d9169671caaf",
        "colab": {
          "base_uri": "https://localhost:8080/",
          "height": 1000
        }
      },
      "outputs": [
        {
          "output_type": "stream",
          "name": "stderr",
          "text": [
            "<ipython-input-26-052acec75bed>:49: FutureWarning: A value is trying to be set on a copy of a DataFrame or Series through chained assignment using an inplace method.\n",
            "The behavior will change in pandas 3.0. This inplace method will never work because the intermediate object on which we are setting values always behaves as a copy.\n",
            "\n",
            "For example, when doing 'df[col].method(value, inplace=True)', try using 'df.method({col: value}, inplace=True)' or df[col] = df[col].method(value) instead, to perform the operation inplace on the original object.\n",
            "\n",
            "\n",
            "  df[col].fillna(\"unknown\", inplace=True)\n"
          ]
        },
        {
          "output_type": "stream",
          "name": "stdout",
          "text": [
            "\n",
            "🔹 Class distribution BEFORE SMOTE:\n",
            "  functional: 25807\n",
            "  non functional: 18259\n",
            "  functional needs repair: 3454\n",
            "\n",
            " SMOTE applied\n",
            "🔹 Class distribution AFTER SMOTE:\n",
            "  functional: 25807\n",
            "  non functional: 25807\n",
            "  functional needs repair: 25807\n",
            "\n",
            " Trained on 77421 samples\n",
            " Accuracy: 0.8088\n",
            "\n",
            " Classification Report:\n",
            "                         precision    recall  f1-score   support\n",
            "\n",
            "             functional       0.82      0.88      0.85      6452\n",
            "functional needs repair       0.49      0.34      0.40       863\n",
            "         non functional       0.84      0.79      0.82      4565\n",
            "\n",
            "               accuracy                           0.81     11880\n",
            "              macro avg       0.72      0.67      0.69     11880\n",
            "           weighted avg       0.80      0.81      0.80     11880\n",
            "\n"
          ]
        },
        {
          "output_type": "display_data",
          "data": {
            "text/plain": [
              "<Figure size 640x480 with 2 Axes>"
            ],
            "image/png": "[encoded data removed]"
          },
          "metadata": {}
        },
        {
          "output_type": "stream",
          "name": "stderr",
          "text": [
            "<ipython-input-26-052acec75bed>:49: FutureWarning: A value is trying to be set on a copy of a DataFrame or Series through chained assignment using an inplace method.\n",
            "The behavior will change in pandas 3.0. This inplace method will never work because the intermediate object on which we are setting values always behaves as a copy.\n",
            "\n",
            "For example, when doing 'df[col].method(value, inplace=True)', try using 'df.method({col: value}, inplace=True)' or df[col] = df[col].method(value) instead, to perform the operation inplace on the original object.\n",
            "\n",
            "\n",
            "  df[col].fillna(\"unknown\", inplace=True)\n"
          ]
        },
        {
          "output_type": "stream",
          "name": "stdout",
          "text": [
            "\n",
            "🔹 Class distribution BEFORE SMOTE:\n",
            "  functional: 25807\n",
            "  non functional: 18259\n",
            "  functional needs repair: 3454\n",
            "\n",
            " SMOTE not applied. Using original training data.\n",
            "\n",
            " Trained on 47520 samples\n",
            " Accuracy: 0.8125\n",
            "\n",
            " Classification Report:\n",
            "                         precision    recall  f1-score   support\n",
            "\n",
            "             functional       0.81      0.90      0.85      6452\n",
            "functional needs repair       0.55      0.31      0.40       863\n",
            "         non functional       0.85      0.78      0.82      4565\n",
            "\n",
            "               accuracy                           0.81     11880\n",
            "              macro avg       0.74      0.66      0.69     11880\n",
            "           weighted avg       0.81      0.81      0.80     11880\n",
            "\n"
          ]
        },
        {
          "output_type": "display_data",
          "data": {
            "text/plain": [
              "<Figure size 640x480 with 2 Axes>"
            ],
            "image/png": "[encoded data removed]"
          },
          "metadata": {}
        },
        {
          "output_type": "execute_result",
          "data": {
            "text/plain": [
              "{'model': RandomForestClassifier(n_estimators=550, random_state=42)}"
            ]
          },
          "metadata": {},
          "execution_count": 34
        }
      ],
      "source": [
        "build_model_label(train_df, data_proportion=1, n_estimators=550, max_depth=None,\n",
        "                      random_state=42, balance=True, smote_multiplier=1,test_size = 0.3)\n",
        "\n",
        "build_model_label(train_df, data_proportion=1, n_estimators=550, max_depth=None,\n",
        "                      random_state=42, balance=False, smote_multiplier=1, test_size = 0.3)"
      ]
    }
  ],
  "metadata": {
    "kernelspec": {
      "display_name": "Python 3",
      "language": "python",
      "name": "python3"
    },
    "language_info": {
      "codemirror_mode": {
        "name": "ipython",
        "version": 3
      },
      "file_extension": ".py",
      "mimetype": "text/x-python",
      "name": "python",
      "nbconvert_exporter": "python",
      "pygments_lexer": "ipython3",
      "version": "3.13.2"
    },
    "colab": {
      "provenance": []
    }
  },
  "nbformat": 4,
  "nbformat_minor": 5
}