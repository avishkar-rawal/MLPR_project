{
 "cells": [
  {
   "cell_type": "code",
   "execution_count": 2,
   "id": "a8639e7a",
   "metadata": {},
   "outputs": [],
   "source": [
    "import pandas as pd"
   ]
  },
  {
   "cell_type": "code",
   "execution_count": 3,
   "id": "ef41c633",
   "metadata": {},
   "outputs": [],
   "source": [
    "training_set_labels=pd.read_csv(r'C:\\Users\\Admin\\OneDrive\\Desktop\\Coursework\\semester 4\\MLPR\\MLPR_project\\data\\training_set_labels.csv')\n",
    "training_set_values=pd.read_csv(r'C:\\Users\\Admin\\OneDrive\\Desktop\\Coursework\\semester 4\\MLPR\\MLPR_project\\data\\traning_set_values.csv') \n",
    "test_set_values = pd.read_csv(r'C:\\Users\\Admin\\OneDrive\\Desktop\\Coursework\\semester 4\\MLPR\\MLPR_project\\data\\test_set_values.csv')"
   ]
  },
  {
   "cell_type": "code",
   "execution_count": null,
   "id": "c2b40509",
   "metadata": {},
   "outputs": [],
   "source": []
  }
 ],
 "metadata": {
  "kernelspec": {
   "display_name": "Python 3",
   "language": "python",
   "name": "python3"
  },
  "language_info": {
   "codemirror_mode": {
    "name": "ipython",
    "version": 3
   },
   "file_extension": ".py",
   "mimetype": "text/x-python",
   "name": "python",
   "nbconvert_exporter": "python",
   "pygments_lexer": "ipython3",
   "version": "3.13.2"
  }
 },
 "nbformat": 4,
 "nbformat_minor": 5
}
