{
 "cells": [
  {
   "cell_type": "markdown",
   "id": "01c21f20",
   "metadata": {},
   "source": [
    "### importing"
   ]
  },
  {
   "cell_type": "code",
   "execution_count": 2,
   "id": "2fa22b6c",
   "metadata": {},
   "outputs": [
    {
     "name": "stderr",
     "output_type": "stream",
     "text": [
      "C:\\Users\\Admin\\AppData\\Roaming\\Python\\Python313\\site-packages\\tqdm\\auto.py:21: TqdmWarning: IProgress not found. Please update jupyter and ipywidgets. See https://ipywidgets.readthedocs.io/en/stable/user_install.html\n",
      "  from .autonotebook import tqdm as notebook_tqdm\n"
     ]
    }
   ],
   "source": [
    "import pandas as pd\n",
    "from sklearn.model_selection import train_test_split\n",
    "from sklearn.ensemble import RandomForestClassifier\n",
    "from sklearn.preprocessing import LabelEncoder\n",
    "from sklearn.metrics import accuracy_score, classification_report, confusion_matrix\n",
    "import seaborn as sns\n",
    "import matplotlib.pyplot as plt\n",
    "import datetime\n",
    "import optuna\n",
    "from sklearn.model_selection import cross_val_score\n"
   ]
  },
  {
   "cell_type": "code",
   "execution_count": 3,
   "id": "340b4bc4",
   "metadata": {},
   "outputs": [],
   "source": [
    "training_set_labels=pd.read_csv(r'C:\\Users\\Admin\\OneDrive\\Desktop\\Coursework\\semester 4\\MLPR\\MLPR_project\\data\\training_set_labels.csv')\n",
    "training_set_values=pd.read_csv(r'C:\\Users\\Admin\\OneDrive\\Desktop\\Coursework\\semester 4\\MLPR\\MLPR_project\\data\\traning_set_values.csv') \n",
    "\n",
    "train_data = pd.merge(training_set_values, training_set_labels, on='id')\n",
    "train_df=train_data.copy()\n",
    "\n",
    "test_set_values = pd.read_csv(r'C:\\Users\\Admin\\OneDrive\\Desktop\\Coursework\\semester 4\\MLPR\\MLPR_project\\data\\test_set_values.csv')\n",
    "test_df = test_set_values.copy()"
   ]
  },
  {
   "cell_type": "markdown",
   "id": "f51cf02b",
   "metadata": {},
   "source": [
    "### feaure engineering for population using KNN Imputer"
   ]
  },
  {
   "cell_type": "code",
   "execution_count": 4,
   "id": "27d3de19",
   "metadata": {},
   "outputs": [],
   "source": [
    "from sklearn.impute import KNNImputer\n",
    "import numpy as np\n",
    "\n",
    "# ['enough' 'insufficient' 'dry' 'seasonal' 'unknown']\n",
    "# ['pay annually' 'never pay' 'pay per bucket' 'unknown' 'pay when scheme fails' 'other' 'pay monthly']\n",
    "# ['communal standpipe' 'hand pump' 'other' 'improved spring' 'cattle trough' 'dam']\n",
    "\n",
    "\n",
    "from sklearn.impute import KNNImputer\n",
    "import numpy as np\n",
    "\n",
    "def impute_population_knn(df, is_train=True, n_neighbors=5):\n",
    "    df = df.copy()\n",
    "\n",
    "    # Dictionaries inside function\n",
    "    dict_population_train = {\n",
    "        'quantity': ['enough', 'insufficient'],\n",
    "        'payment': ['pay annually', 'pay per bucket', 'pay monthly'],\n",
    "        'waterpoint_type_group': ['improvedspring'],\n",
    "        'status_group': ['functional', 'functional needs repair'],\n",
    "    }\n",
    "\n",
    "    dict_population_test = {\n",
    "        'quantity': ['enough', 'insufficient'],\n",
    "        'payment': ['pay annually', 'pay per bucket', 'pay monthly'],\n",
    "        'waterpoint_type_group': ['improvedspring'],\n",
    "    }\n",
    "\n",
    "    dict_population = dict_population_train if is_train else dict_population_test\n",
    "\n",
    "    # Count original zeros\n",
    "    total_zeros_before = (df['population'] == 0).sum()\n",
    "\n",
    "    # Identify rows where population is zero\n",
    "    zero_pop_mask = df['population'] == 0\n",
    "\n",
    "    # Build mask for rows matching any dictionary criteria\n",
    "    match_mask = np.zeros(len(df), dtype=bool)\n",
    "    for col, values in dict_population.items():\n",
    "        if col in df.columns:\n",
    "            match_mask |= df[col].isin(values)\n",
    "\n",
    "    # Target rows where population is zero and match criteria\n",
    "    target_mask = zero_pop_mask & match_mask\n",
    "    total_to_impute = target_mask.sum()\n",
    "\n",
    "    if total_to_impute == 0:\n",
    "        print(f\"[INFO] No rows to impute. Population=0 count: {total_zeros_before}\")\n",
    "        return df\n",
    "\n",
    "    # Prepare numeric columns excluding 'id' and 'population'\n",
    "    numeric_cols = df.select_dtypes(include=[np.number]).columns.tolist()\n",
    "    if 'id' in numeric_cols:\n",
    "        numeric_cols.remove('id')\n",
    "    if 'population' in numeric_cols:\n",
    "        numeric_cols.remove('population')\n",
    "\n",
    "    # Prepare dataframe for KNNImputer\n",
    "    df_knn = df[numeric_cols + ['population']].copy()\n",
    "    df_knn.loc[target_mask, 'population'] = np.nan\n",
    "\n",
    "    # Apply KNN imputer\n",
    "    imputer = KNNImputer(n_neighbors=n_neighbors)\n",
    "    imputed = imputer.fit_transform(df_knn)\n",
    "\n",
    "    # Update population with imputed values only for target rows\n",
    "    imputed_population = np.round(imputed[:, -1]).astype(int)\n",
    "    df.loc[target_mask, 'population'] = imputed_population[target_mask.values]\n",
    "\n",
    "    # Count zeros after imputation\n",
    "    total_zeros_after = (df['population'] == 0).sum()\n",
    "\n",
    "    # Number of successful imputations\n",
    "    total_imputed = total_to_impute - (df.loc[target_mask, 'population'] == 0).sum()\n",
    "\n",
    "    print(f\"[INFO] Original population=0 count: {total_zeros_before}\")\n",
    "    print(f\"[INFO] Population=0 after imputation: {total_zeros_after}\")\n",
    "    print(f\"[INFO] Total imputed population values: {total_imputed}\")\n",
    "\n",
    "    return df\n",
    "\n",
    "# Usage example:\n",
    "# df = impute_population_knn(df, is_train=True, n_neighbors=5)\n"
   ]
  },
  {
   "cell_type": "code",
   "execution_count": 5,
   "id": "e40c1c1b",
   "metadata": {},
   "outputs": [
    {
     "name": "stdout",
     "output_type": "stream",
     "text": [
      "[INFO] Original population=0 count: 21381\n",
      "[INFO] Population=0 after imputation: 19832\n",
      "[INFO] Total imputed population values: 1549\n"
     ]
    }
   ],
   "source": [
    "train_df=impute_population_knn(train_df, is_train=True, n_neighbors=5)"
   ]
  },
  {
   "cell_type": "code",
   "execution_count": 6,
   "id": "bf048b25",
   "metadata": {},
   "outputs": [
    {
     "name": "stdout",
     "output_type": "stream",
     "text": [
      "[INFO] Original population=0 count: 5453\n",
      "[INFO] Population=0 after imputation: 5073\n",
      "[INFO] Total imputed population values: 380\n"
     ]
    }
   ],
   "source": [
    "test_df=impute_population_knn(test_df, is_train=False, n_neighbors=5)"
   ]
  },
  {
   "cell_type": "markdown",
   "id": "ef7b9672",
   "metadata": {},
   "source": [
    "### inputing construciton year when it is 0 (there are 20709, 43.9%)"
   ]
  },
  {
   "cell_type": "code",
   "execution_count": 7,
   "id": "cbe88502",
   "metadata": {},
   "outputs": [],
   "source": [
    "def impute_construction_year(df, construction_col='construction_year', n_neighbors=5):\n",
    "    df = df.copy()\n",
    "    \n",
    "    # Treat 0 as missing\n",
    "    df[construction_col] = df[construction_col].replace(0, np.nan)\n",
    "    \n",
    "    # Select only numeric columns for KNN\n",
    "    numeric_cols = df.select_dtypes(include=[np.number]).columns.tolist()\n",
    "    if construction_col not in numeric_cols:\n",
    "        raise ValueError(f\"{construction_col} must be a numeric column\")\n",
    "\n",
    "    # Apply KNN Imputer\n",
    "    imputer = KNNImputer(n_neighbors=n_neighbors)\n",
    "    df[numeric_cols] = imputer.fit_transform(df[numeric_cols])\n",
    "    \n",
    "    # Round construction_year to nearest year and cast to int\n",
    "    df[construction_col] = df[construction_col].round().astype(int)\n",
    "    \n",
    "    return df"
   ]
  },
  {
   "cell_type": "code",
   "execution_count": 8,
   "id": "4a181bf4",
   "metadata": {},
   "outputs": [],
   "source": [
    "train_df = impute_construction_year(train_df, construction_col='construction_year', n_neighbors=5)\n",
    "test_df = impute_construction_year(test_df, construction_col='construction_year', n_neighbors=5)"
   ]
  },
  {
   "cell_type": "markdown",
   "id": "60a17ad5",
   "metadata": {},
   "source": [
    "### making a column for the age of the water point"
   ]
  },
  {
   "cell_type": "code",
   "execution_count": 92,
   "id": "9a40dc57",
   "metadata": {},
   "outputs": [],
   "source": [
    "def add_age_column(df, construction_col='construction_year', recorded_col='date_recorded', age_col='age'):\n",
    "    df = df.copy()\n",
    "    \n",
    "    # Convert date_recorded to datetime\n",
    "    df[recorded_col] = pd.to_datetime(df[recorded_col], errors='coerce')\n",
    "    \n",
    "    # Extract year from date_recorded\n",
    "    recorded_year = df[recorded_col].dt.year\n",
    "    \n",
    "    # Calculate age = recorded_year - construction_year\n",
    "    df[age_col] = recorded_year - df[construction_col]\n",
    "    \n",
    "    # Handle invalid/missing years\n",
    "    df[age_col] = df[age_col].fillna(0).astype(int)\n",
    "    df.loc[df[age_col] < 0, age_col] = 0  # If construction_year > recorded_year\n",
    "    \n",
    "    return df\n"
   ]
  },
  {
   "cell_type": "code",
   "execution_count": 93,
   "id": "4fc94f6b",
   "metadata": {},
   "outputs": [],
   "source": [
    "train_df= add_age_column(train_df, construction_col='construction_year', recorded_col='date_recorded', age_col='age')\n",
    "test_df= add_age_column(test_df, construction_col='construction_year', recorded_col='date_recorded', age_col='age')"
   ]
  },
  {
   "cell_type": "markdown",
   "id": "c27a2afa",
   "metadata": {},
   "source": [
    "### forward fill the logitude values with zero because zero longitude is not valid for tanzania\n"
   ]
  },
  {
   "cell_type": "code",
   "execution_count": 9,
   "id": "266b05c5",
   "metadata": {},
   "outputs": [
    {
     "name": "stdout",
     "output_type": "stream",
     "text": [
      "1812\n",
      "0\n",
      "457\n",
      "0\n"
     ]
    }
   ],
   "source": [
    "print((train_df['longitude']==0).sum())\n",
    "print((train_df['latitude']==0).sum())\n",
    "print((test_df['longitude']==0).sum())\n",
    "print((test_df['latitude']==0).sum())"
   ]
  },
  {
   "cell_type": "code",
   "execution_count": 10,
   "id": "fedf76fa",
   "metadata": {},
   "outputs": [],
   "source": [
    "import numpy as np\n",
    "def forward_fill_longitude(df, longitude_col='longitude'):\n",
    "    df = df.copy()\n",
    "    \n",
    "    # Forward fill longitude values\n",
    "    df[longitude_col] = df[longitude_col].replace(0, np.nan)\n",
    "    df[longitude_col] = df[longitude_col].fillna(method='ffill')\n",
    "    \n",
    "    # Convert to float\n",
    "    df[longitude_col] = df[longitude_col].astype(float)\n",
    "    \n",
    "    return df"
   ]
  },
  {
   "cell_type": "code",
   "execution_count": 11,
   "id": "adb3a5d4",
   "metadata": {},
   "outputs": [
    {
     "name": "stderr",
     "output_type": "stream",
     "text": [
      "C:\\Users\\Admin\\AppData\\Local\\Temp\\ipykernel_8528\\3379223853.py:7: FutureWarning: Series.fillna with 'method' is deprecated and will raise in a future version. Use obj.ffill() or obj.bfill() instead.\n",
      "  df[longitude_col] = df[longitude_col].fillna(method='ffill')\n",
      "C:\\Users\\Admin\\AppData\\Local\\Temp\\ipykernel_8528\\3379223853.py:7: FutureWarning: Series.fillna with 'method' is deprecated and will raise in a future version. Use obj.ffill() or obj.bfill() instead.\n",
      "  df[longitude_col] = df[longitude_col].fillna(method='ffill')\n"
     ]
    }
   ],
   "source": [
    "train_df = forward_fill_longitude(train_df, longitude_col='longitude')\n",
    "test_df = forward_fill_longitude(test_df, longitude_col='longitude')"
   ]
  },
  {
   "cell_type": "code",
   "execution_count": 12,
   "id": "465d524b",
   "metadata": {},
   "outputs": [
    {
     "name": "stdout",
     "output_type": "stream",
     "text": [
      "0\n",
      "0\n",
      "0\n",
      "0\n"
     ]
    }
   ],
   "source": [
    "print((train_df['longitude']==0).sum())\n",
    "print((train_df['latitude']==0).sum())\n",
    "print((test_df['longitude']==0).sum())\n",
    "print((test_df['latitude']==0).sum())"
   ]
  },
  {
   "cell_type": "markdown",
   "id": "6cbc4e06",
   "metadata": {},
   "source": [
    "### the code for random forest classifier with feature emgineered raininess score"
   ]
  },
  {
   "cell_type": "code",
   "execution_count": 13,
   "id": "f4630cf9",
   "metadata": {},
   "outputs": [
    {
     "data": {
      "text/plain": [
       "np.int64(58643)"
      ]
     },
     "execution_count": 13,
     "metadata": {},
     "output_type": "execute_result"
    }
   ],
   "source": [
    "(train_df['num_private'] == 0).sum()"
   ]
  },
  {
   "cell_type": "code",
   "execution_count": 14,
   "id": "3470cc4e",
   "metadata": {},
   "outputs": [],
   "source": [
    "import pandas as pd\n",
    "import datetime\n",
    "from sklearn.preprocessing import LabelEncoder\n",
    "from sklearn.model_selection import train_test_split\n",
    "from sklearn.ensemble import RandomForestClassifier\n",
    "from sklearn.metrics import accuracy_score, classification_report, confusion_matrix\n",
    "import seaborn as sns\n",
    "import matplotlib.pyplot as plt\n",
    "\n",
    "# Columns to drop, dropping num_private because 58643 out of 59400 column have value zero\n",
    "# date recorede is changed becuase we feature engineered it to raininess score\n",
    "\n",
    "duplicate_columns = ['wpt_name', 'extraction_type', 'source', 'water_quality',\n",
    "                     'waterpoint_type', 'payment_type', 'quality', 'recorded_by','num_private']\n",
    "crossed_out_columns = duplicate_columns + ['date_recorded']\n",
    "\n",
    "# Function to assign raininess score by month\n",
    "def assign_raininess(month):\n",
    "    if month in [3, 4, 5]:\n",
    "        return 4  # Long Rains\n",
    "    elif month in [10, 11, 12]:\n",
    "        return 3  # Short Rains\n",
    "    elif month in [1, 2]:\n",
    "        return 2  # Short Dry\n",
    "    else:\n",
    "        return 1  # Main Dry\n",
    "\n",
    "# Globals for label encoding\n",
    "categorical_cols = []\n",
    "encoders = {}\n",
    "\n",
    "# 1. Preprocessing + Encoding (Label Encoding only)\n",
    "def clean_encode_label(df, is_train=True):\n",
    "    global categorical_cols, encoders\n",
    "\n",
    "    df = df.copy()\n",
    "\n",
    "    if 'date_recorded' in df.columns:\n",
    "        df['date_recorded'] = pd.to_datetime(df['date_recorded'])\n",
    "        df['raininess_score'] = df['date_recorded'].dt.month.apply(assign_raininess)\n",
    "\n",
    "    df = df.drop(columns=[col for col in crossed_out_columns if col in df.columns], errors='ignore')\n",
    "\n",
    "    for col in df.select_dtypes(include='object').columns:\n",
    "        if is_train and col == 'status_group':\n",
    "            continue\n",
    "        df[col].fillna(\"unknown\", inplace=True)\n",
    "    df.fillna(0, inplace=True)\n",
    "\n",
    "    if is_train:\n",
    "        categorical_cols = [col for col in df.select_dtypes(include='object').columns if col != 'status_group']\n",
    "        encoders = {}\n",
    "\n",
    "        for col in categorical_cols:\n",
    "            le = LabelEncoder()\n",
    "            df[col] = le.fit_transform(df[col].astype(str))\n",
    "            encoders[col] = le\n",
    "    else:\n",
    "        for col in categorical_cols:\n",
    "            if col in df.columns:\n",
    "                le = encoders[col]\n",
    "                col_data = df[col].astype(str)\n",
    "                # Replace unseen categories with first known class\n",
    "                col_data[~col_data.isin(le.classes_)] = le.classes_[0]\n",
    "                df[col] = le.transform(col_data)\n",
    "\n",
    "    return df\n",
    "\n",
    "# 2. Model Building\n",
    "def build_model_label(train_df, data_proportion=1.0, n_estimators=550, max_depth=None, random_state=42):\n",
    "    train_df = clean_encode_label(train_df, is_train=True)\n",
    "    y = train_df['status_group']\n",
    "    X = train_df.drop(columns=['status_group'])\n",
    "\n",
    "    if data_proportion < 1.0:\n",
    "        X, _, y, _ = train_test_split(X, y, train_size=data_proportion, stratify=y, random_state=random_state)\n",
    "\n",
    "    X_train, X_test, y_train, y_test = train_test_split(X, y, test_size=0.2, stratify=y, random_state=random_state)\n",
    "\n",
    "    model = RandomForestClassifier(n_estimators=n_estimators, max_depth=max_depth, random_state=random_state)\n",
    "    model.fit(X_train, y_train)\n",
    "\n",
    "    y_pred = model.predict(X_test)\n",
    "    accuracy = accuracy_score(y_test, y_pred)\n",
    "\n",
    "    print(f\"Model trained on {data_proportion*100:.1f}% of data\")\n",
    "    print(f\"Accuracy: {accuracy:.4f}\")\n",
    "    print(\"Classification Report:\")\n",
    "    print(classification_report(y_test, y_pred))\n",
    "\n",
    "    cm = confusion_matrix(y_test, y_pred)\n",
    "    sns.heatmap(cm, annot=True, fmt='d', cmap='Blues',\n",
    "                xticklabels=model.classes_, yticklabels=model.classes_)\n",
    "    plt.xlabel(\"Predicted\")\n",
    "    plt.ylabel(\"Actual\")\n",
    "    plt.title(\"Confusion Matrix\")\n",
    "    plt.show()\n",
    "\n",
    "    return {\n",
    "        'model': model\n",
    "    }\n",
    "\n",
    "# 3. Predict on Test Set\n",
    "def predict_test_set_label(model_data, test_df):\n",
    "    test_df_cleaned = clean_encode_label(test_df, is_train=False)\n",
    "    model = model_data['model']\n",
    "\n",
    "    predictions = model.predict(test_df_cleaned)\n",
    "\n",
    "    result_df = pd.DataFrame({\n",
    "        'id': test_df['id'] if 'id' in test_df.columns else test_df.index,\n",
    "        'status_group': predictions\n",
    "    })\n",
    "\n",
    "    timestamp = datetime.datetime.now().strftime(\"%Y-%m-%d_%H-%M-%S\")\n",
    "    filename = f\"predictions_{timestamp}.csv\"\n",
    "    result_df.to_csv(filename, index=False)\n",
    "    print(f\"\\u2705 Saved {len(result_df)} predictions to {filename}\")\n",
    "\n",
    "    return result_df\n"
   ]
  },
  {
   "cell_type": "code",
   "execution_count": 15,
   "id": "fed3f970",
   "metadata": {},
   "outputs": [
    {
     "name": "stderr",
     "output_type": "stream",
     "text": [
      "C:\\Users\\Admin\\AppData\\Local\\Temp\\ipykernel_8528\\1658487416.py:47: FutureWarning: A value is trying to be set on a copy of a DataFrame or Series through chained assignment using an inplace method.\n",
      "The behavior will change in pandas 3.0. This inplace method will never work because the intermediate object on which we are setting values always behaves as a copy.\n",
      "\n",
      "For example, when doing 'df[col].method(value, inplace=True)', try using 'df.method({col: value}, inplace=True)' or df[col] = df[col].method(value) instead, to perform the operation inplace on the original object.\n",
      "\n",
      "\n",
      "  df[col].fillna(\"unknown\", inplace=True)\n"
     ]
    },
    {
     "name": "stdout",
     "output_type": "stream",
     "text": [
      "Model trained on 100.0% of data\n",
      "Accuracy: 0.8125\n",
      "Classification Report:\n",
      "                         precision    recall  f1-score   support\n",
      "\n",
      "             functional       0.81      0.90      0.85      6452\n",
      "functional needs repair       0.55      0.31      0.39       863\n",
      "         non functional       0.85      0.79      0.82      4565\n",
      "\n",
      "               accuracy                           0.81     11880\n",
      "              macro avg       0.74      0.66      0.69     11880\n",
      "           weighted avg       0.81      0.81      0.80     11880\n",
      "\n"
     ]
    },
    {
     "data": {
      "image/png": "[encoded data removed]",
      "text/plain": [
       "<Figure size 640x480 with 2 Axes>"
      ]
     },
     "metadata": {},
     "output_type": "display_data"
    },
    {
     "data": {
      "text/plain": [
       "{'model': RandomForestClassifier(n_estimators=550, random_state=42)}"
      ]
     },
     "execution_count": 15,
     "metadata": {},
     "output_type": "execute_result"
    }
   ],
   "source": [
    "build_model_label(train_df)"
   ]
  },
  {
   "cell_type": "markdown",
   "id": "1b39f0a7",
   "metadata": {},
   "source": [
    "### optuna"
   ]
  },
  {
   "cell_type": "code",
   "execution_count": 108,
   "id": "400ce910",
   "metadata": {},
   "outputs": [],
   "source": [
    "\n",
    "# Columns to drop, dropping num_private because 58643 out of 59400 column have value zero\n",
    "duplicate_columns = ['wpt_name', 'extraction_type', 'source', 'water_quality',\n",
    "                     'waterpoint_type', 'payment_type', 'quality', 'recorded_by','num_private']\n",
    "crossed_out_columns = duplicate_columns + ['date_recorded']\n",
    "\n",
    "# Function to assign raininess score by month\n",
    "def assign_raininess(month):\n",
    "    if month in [3, 4, 5]:\n",
    "        return 4  # Long Rains\n",
    "    elif month in [10, 11, 12]:\n",
    "        return 3  # Short Rains\n",
    "    elif month in [1, 2]:\n",
    "        return 2  # Short Dry\n",
    "    else:\n",
    "        return 1  # Main Dry\n",
    "\n",
    "# Globals for label encoding\n",
    "categorical_cols = []\n",
    "encoders = {}\n",
    "\n",
    "# 1. Preprocessing + Encoding (Label Encoding only)\n",
    "def clean_encode_label(df, is_train=True):\n",
    "    global categorical_cols, encoders\n",
    "\n",
    "    df = df.copy()\n",
    "\n",
    "    if 'date_recorded' in df.columns:\n",
    "        df['date_recorded'] = pd.to_datetime(df['date_recorded'])\n",
    "        df['raininess_score'] = df['date_recorded'].dt.month.apply(assign_raininess)\n",
    "\n",
    "    df = df.drop(columns=[col for col in crossed_out_columns if col in df.columns], errors='ignore')\n",
    "\n",
    "    for col in df.select_dtypes(include='object').columns:\n",
    "        if is_train and col == 'status_group':\n",
    "            continue\n",
    "        df[col].fillna(\"unknown\", inplace=True)\n",
    "    df.fillna(0, inplace=True)\n",
    "\n",
    "    if is_train:\n",
    "        categorical_cols = [col for col in df.select_dtypes(include='object').columns if col != 'status_group']\n",
    "        encoders = {}\n",
    "\n",
    "        for col in categorical_cols:\n",
    "            le = LabelEncoder()\n",
    "            df[col] = le.fit_transform(df[col].astype(str))\n",
    "            encoders[col] = le\n",
    "    else:\n",
    "        for col in categorical_cols:\n",
    "            if col in df.columns:\n",
    "                le = encoders[col]\n",
    "                col_data = df[col].astype(str)\n",
    "                col_data[~col_data.isin(le.classes_)] = le.classes_[0]\n",
    "                df[col] = le.transform(col_data)\n",
    "\n",
    "    return df\n",
    "\n",
    "# 2. Model Building\n",
    "def build_model_label(train_df, data_proportion=1.0, n_estimators=550, max_depth=None, random_state=42):\n",
    "    train_df = clean_encode_label(train_df, is_train=True)\n",
    "    y = train_df['status_group']\n",
    "    X = train_df.drop(columns=['status_group'])\n",
    "\n",
    "    if data_proportion < 1.0:\n",
    "        X, _, y, _ = train_test_split(X, y, train_size=data_proportion, stratify=y, random_state=random_state)\n",
    "\n",
    "    X_train, X_test, y_train, y_test = train_test_split(X, y, test_size=0.2, stratify=y, random_state=random_state)\n",
    "\n",
    "    model = RandomForestClassifier(n_estimators=n_estimators, max_depth=max_depth, random_state=random_state)\n",
    "    model.fit(X_train, y_train)\n",
    "\n",
    "    y_pred = model.predict(X_test)\n",
    "    accuracy = accuracy_score(y_test, y_pred)\n",
    "\n",
    "    print(f\"Model trained on {data_proportion*100:.1f}% of data, 80-20\")\n",
    "    print(f\"Accuracy: {accuracy:.4f}\")\n",
    "    print(\"Classification Report:\")\n",
    "    print(classification_report(y_test, y_pred))\n",
    "\n",
    "    cm = confusion_matrix(y_test, y_pred)\n",
    "    sns.heatmap(cm, annot=True, fmt='d', cmap='Blues',\n",
    "                xticklabels=model.classes_, yticklabels=model.classes_)\n",
    "    plt.xlabel(\"Predicted\")\n",
    "    plt.ylabel(\"Actual\")\n",
    "    plt.title(\"Confusion Matrix\")\n",
    "    plt.show()\n",
    "\n",
    "    return {\n",
    "        'model': model\n",
    "    }\n",
    "\n",
    "# 3. Predict on Test Set\n",
    "def predict_test_set_label(model_data, test_df):\n",
    "    test_df_cleaned = clean_encode_label(test_df, is_train=False)\n",
    "    model = model_data['model']\n",
    "\n",
    "    predictions = model.predict(test_df_cleaned)\n",
    "\n",
    "    result_df = pd.DataFrame({\n",
    "        'id': test_df['id'] if 'id' in test_df.columns else test_df.index,\n",
    "        'status_group': predictions\n",
    "    })\n",
    "\n",
    "    timestamp = datetime.datetime.now().strftime(\"%Y-%m-%d_%H-%M-%S\")\n",
    "    filename = f\"predictions_{timestamp}.csv\"\n",
    "    result_df.to_csv(filename, index=False)\n",
    "    print(f\"\\u2705 Saved {len(result_df)} predictions to {filename}\")\n",
    "\n",
    "    return result_df\n",
    "\n",
    "# 4. Optuna Objective Function\n",
    "def objective(trial, train_df):\n",
    "    df = clean_encode_label(train_df, is_train=True)\n",
    "    y = df['status_group']\n",
    "    X = df.drop(columns=['status_group'])\n",
    "\n",
    "    n_estimators = trial.suggest_int('n_estimators', 100, 600)\n",
    "    max_depth = trial.suggest_int('max_depth', 5, 40)\n",
    "\n",
    "    model = RandomForestClassifier(\n",
    "        n_estimators=n_estimators,\n",
    "        max_depth=max_depth,\n",
    "        random_state=42\n",
    "    )\n",
    "\n",
    "    score = cross_val_score(model, X, y, cv=3, scoring='accuracy').mean()\n",
    "    return score\n",
    "\n",
    "# 5. Optuna Tuner\n",
    "def tune_hyperparameters(train_df, n_trials=5):\n",
    "    study = optuna.create_study(direction='maximize')\n",
    "    study.optimize(lambda trial: objective(trial, train_df), n_trials=n_trials)\n",
    "\n",
    "    print(\"\\n✅ Best Trial:\")\n",
    "    print(f\"  Accuracy: {study.best_value:.4f}\")\n",
    "    print(\"  Best Params:\")\n",
    "    for key, value in study.best_params.items():\n",
    "        print(f\"    {key}: {value}\")\n",
    "\n",
    "    return study.best_params\n"
   ]
  },
  {
   "cell_type": "code",
   "execution_count": null,
   "id": "2fc94915",
   "metadata": {},
   "outputs": [
    {
     "name": "stderr",
     "output_type": "stream",
     "text": [
      "[I 2025-05-15 22:54:59,853] A new study created in memory with name: no-name-3b4bbba2-70b8-45b3-8936-b9c92a775691\n"
     ]
    },
    {
     "name": "stderr",
     "output_type": "stream",
     "text": [
      "C:\\Users\\Admin\\AppData\\Local\\Temp\\ipykernel_22780\\973912229.py:36: FutureWarning: A value is trying to be set on a copy of a DataFrame or Series through chained assignment using an inplace method.\n",
      "The behavior will change in pandas 3.0. This inplace method will never work because the intermediate object on which we are setting values always behaves as a copy.\n",
      "\n",
      "For example, when doing 'df[col].method(value, inplace=True)', try using 'df.method({col: value}, inplace=True)' or df[col] = df[col].method(value) instead, to perform the operation inplace on the original object.\n",
      "\n",
      "\n",
      "  df[col].fillna(\"unknown\", inplace=True)\n",
      "[I 2025-05-15 22:56:33,076] Trial 0 finished with value: 0.8057407407407409 and parameters: {'n_estimators': 336, 'max_depth': 32}. Best is trial 0 with value: 0.8057407407407409.\n",
      "C:\\Users\\Admin\\AppData\\Local\\Temp\\ipykernel_22780\\973912229.py:36: FutureWarning: A value is trying to be set on a copy of a DataFrame or Series through chained assignment using an inplace method.\n",
      "The behavior will change in pandas 3.0. This inplace method will never work because the intermediate object on which we are setting values always behaves as a copy.\n",
      "\n",
      "For example, when doing 'df[col].method(value, inplace=True)', try using 'df.method({col: value}, inplace=True)' or df[col] = df[col].method(value) instead, to perform the operation inplace on the original object.\n",
      "\n",
      "\n",
      "  df[col].fillna(\"unknown\", inplace=True)\n",
      "[I 2025-05-15 22:57:09,333] Trial 1 finished with value: 0.7231313131313132 and parameters: {'n_estimators': 348, 'max_depth': 6}. Best is trial 0 with value: 0.8057407407407409.\n",
      "C:\\Users\\Admin\\AppData\\Local\\Temp\\ipykernel_22780\\973912229.py:36: FutureWarning: A value is trying to be set on a copy of a DataFrame or Series through chained assignment using an inplace method.\n",
      "The behavior will change in pandas 3.0. This inplace method will never work because the intermediate object on which we are setting values always behaves as a copy.\n",
      "\n",
      "For example, when doing 'df[col].method(value, inplace=True)', try using 'df.method({col: value}, inplace=True)' or df[col] = df[col].method(value) instead, to perform the operation inplace on the original object.\n",
      "\n",
      "\n",
      "  df[col].fillna(\"unknown\", inplace=True)\n",
      "[I 2025-05-15 22:58:22,202] Trial 2 finished with value: 0.7813468013468013 and parameters: {'n_estimators': 389, 'max_depth': 12}. Best is trial 0 with value: 0.8057407407407409.\n",
      "C:\\Users\\Admin\\AppData\\Local\\Temp\\ipykernel_22780\\973912229.py:36: FutureWarning: A value is trying to be set on a copy of a DataFrame or Series through chained assignment using an inplace method.\n",
      "The behavior will change in pandas 3.0. This inplace method will never work because the intermediate object on which we are setting values always behaves as a copy.\n",
      "\n",
      "For example, when doing 'df[col].method(value, inplace=True)', try using 'df.method({col: value}, inplace=True)' or df[col] = df[col].method(value) instead, to perform the operation inplace on the original object.\n",
      "\n",
      "\n",
      "  df[col].fillna(\"unknown\", inplace=True)\n",
      "[I 2025-05-15 22:59:10,296] Trial 3 finished with value: 0.8048484848484848 and parameters: {'n_estimators': 168, 'max_depth': 39}. Best is trial 0 with value: 0.8057407407407409.\n",
      "C:\\Users\\Admin\\AppData\\Local\\Temp\\ipykernel_22780\\973912229.py:36: FutureWarning: A value is trying to be set on a copy of a DataFrame or Series through chained assignment using an inplace method.\n",
      "The behavior will change in pandas 3.0. This inplace method will never work because the intermediate object on which we are setting values always behaves as a copy.\n",
      "\n",
      "For example, when doing 'df[col].method(value, inplace=True)', try using 'df.method({col: value}, inplace=True)' or df[col] = df[col].method(value) instead, to perform the operation inplace on the original object.\n",
      "\n",
      "\n",
      "  df[col].fillna(\"unknown\", inplace=True)\n",
      "[I 2025-05-15 23:01:38,701] Trial 4 finished with value: 0.8056228956228958 and parameters: {'n_estimators': 496, 'max_depth': 32}. Best is trial 0 with value: 0.8057407407407409.\n",
      "C:\\Users\\Admin\\AppData\\Local\\Temp\\ipykernel_22780\\973912229.py:36: FutureWarning: A value is trying to be set on a copy of a DataFrame or Series through chained assignment using an inplace method.\n",
      "The behavior will change in pandas 3.0. This inplace method will never work because the intermediate object on which we are setting values always behaves as a copy.\n",
      "\n",
      "For example, when doing 'df[col].method(value, inplace=True)', try using 'df.method({col: value}, inplace=True)' or df[col] = df[col].method(value) instead, to perform the operation inplace on the original object.\n",
      "\n",
      "\n",
      "  df[col].fillna(\"unknown\", inplace=True)\n"
     ]
    },
    {
     "name": "stdout",
     "output_type": "stream",
     "text": [
      "\n",
      "✅ Best Trial:\n",
      "  Accuracy: 0.8057\n",
      "  Best Params:\n",
      "    n_estimators: 336\n",
      "    max_depth: 32\n",
      "Model trained on 100.0% of data\n",
      "Accuracy: 0.8110\n",
      "Classification Report:\n",
      "                         precision    recall  f1-score   support\n",
      "\n",
      "             functional       0.81      0.90      0.85      6452\n",
      "functional needs repair       0.56      0.31      0.40       863\n",
      "         non functional       0.85      0.78      0.81      4565\n",
      "\n",
      "               accuracy                           0.81     11880\n",
      "              macro avg       0.74      0.66      0.69     11880\n",
      "           weighted avg       0.80      0.81      0.80     11880\n",
      "\n"
     ]
    },
    {
     "data": {
      "image/png": "[encoded data removed]",
      "text/plain": [
       "<Figure size 640x480 with 2 Axes>"
      ]
     },
     "metadata": {},
     "output_type": "display_data"
    }
   ],
   "source": [
    "# 1. Run tuning\n",
    "best_params = tune_hyperparameters(train_df, n_trials=5)\n",
    "\n",
    "# 2. Train model with best params\n",
    "model_data = build_model_label(train_df,\n",
    "                               n_estimators=best_params['n_estimators'],\n",
    "                               max_depth=best_params['max_depth'])\n",
    "\n"
   ]
  },
  {
   "cell_type": "code",
   "execution_count": null,
   "id": "59eda227",
   "metadata": {},
   "outputs": [],
   "source": [
    "# 3. Predict test set\n",
    "# predictions_df = predict_test_set_label(model_data, test_df)\n",
    "\n",
    "\n",
    "#4 Save predictions_df to a CSV file with a timestamp\n",
    "# import datetime\n",
    "\n",
    "# timestamp = datetime.datetime.now().strftime(\"%Y-%m-%d_%H-%M-%S\")\n",
    "# filename = f\"predictions_{timestamp}.csv\"\n",
    "\n",
    "# # Save the file\n",
    "# predictions_df.to_csv(filename, index=False)\n",
    "\n",
    "# print(f\"✅ Predictions saved to: {filename}\")\n"
   ]
  }
 ],
 "metadata": {
  "kernelspec": {
   "display_name": "Python 3",
   "language": "python",
   "name": "python3"
  },
  "language_info": {
   "codemirror_mode": {
    "name": "ipython",
    "version": 3
   },
   "file_extension": ".py",
   "mimetype": "text/x-python",
   "name": "python",
   "nbconvert_exporter": "python",
   "pygments_lexer": "ipython3",
   "version": "3.13.2"
  }
 },
 "nbformat": 4,
 "nbformat_minor": 5
}
